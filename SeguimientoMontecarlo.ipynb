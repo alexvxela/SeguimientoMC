{
 "cells": [
  {
   "cell_type": "code",
   "execution_count": 45,
   "metadata": {},
   "outputs": [],
   "source": [
    "import numpy as np\n",
    "import scipy.integrate as integrate\n",
    "from numpy.random import normal\n",
    "import matplotlib.pyplot as plt\n",
    "import math"
   ]
  },
  {
   "cell_type": "code",
   "execution_count": 46,
   "metadata": {},
   "outputs": [
    {
     "name": "stdout",
     "output_type": "stream",
     "text": [
      "10: E-MC = 26.03174    E-Integral = 338.41262    Varianza, S = 26.03874\n",
      "100: E-MC = 32.26682    E-Integral = 419.46867    Varianza, S = 28.43728\n",
      "1000: E-MC = 29.2963    E-Integral = 380.85188    Varianza, S = 28.20688\n",
      "10000: E-MC = 31.28891    E-Integral = 406.7558    Varianza, S = 29.19958\n",
      "100000: E-MC = 31.27534    E-Integral = 406.57947    Varianza, S = 29.17292\n",
      "1000000: E-MC = 31.28989    E-Integral = 406.76851    Varianza, S = 29.12309\n"
     ]
    }
   ],
   "source": [
    "# Función a integrar\n",
    "def function(c,d,x):\n",
    "    return (c*(x-10)**2 + d)\n",
    "\n",
    "# Solución analítica para la integral de la funcion\n",
    "def Integral(c,d,x):\n",
    "    return (((1/3)*c*(x-10)**3)+(d*x))\n",
    "\n",
    "# Rango de Integración\n",
    "a=0\n",
    "b=13\n",
    "\n",
    "# Parámetros\n",
    "c=1.0\n",
    "d=5.0\n",
    "\n",
    "# Bucle generador de las aproximaciones -> método básico\n",
    "for i in range(6):\n",
    "    \n",
    "    n=np.random.random_sample((10**(i+1)))*b\n",
    "\n",
    "    F=function(c,d,n)\n",
    "    E=np.sum(F)/len(n) # Estimado de Montecarlo\n",
    "    RescaledE=(b-a)*E # Estimado de la integral -> EReescalado\n",
    "    S=np.sqrt(np.sum((F-E)**2)/(len(n)-1)) # Varianza\n",
    "    k=10**(i+1)\n",
    "    print(\"\"+str(k)+\": E-MC =\",round(E,5), \"   E-Integral =\",round(RescaledE,5),\"   Varianza, S =\",round(S,5))"
   ]
  },
  {
   "cell_type": "code",
   "execution_count": 47,
   "metadata": {},
   "outputs": [
    {
     "name": "stdout",
     "output_type": "stream",
     "text": [
      "Valor evaluado, I = 407.33333\n",
      "Usando Librería Scipy, I = (407.3333333333333, 4.522308453639804e-12)\n"
     ]
    }
   ],
   "source": [
    "# Valor exacto de la integral\n",
    "I = Integral(c,d,b)-Integral(c,d,a)\n",
    "print(\"Valor evaluado, I =\", round(I,5))\n",
    "Int = integrate.quad(lambda x: function(c,d,x), a, b)\n",
    "print(\"Usando Librería Scipy, I =\", Int)"
   ]
  },
  {
   "cell_type": "code",
   "execution_count": 48,
   "metadata": {},
   "outputs": [
    {
     "name": "stdout",
     "output_type": "stream",
     "text": [
      "Estimado muestreo por importancia, I = 407.33604\n",
      "Estimado varianza, S = 0.00274\n"
     ]
    }
   ],
   "source": [
    "# Integración de Montecarlo -> muestreo por importancia con PDF Gaussiana\n",
    "# https://sites.chem.utoronto.ca/chemistry/jmschofi/simulation/partintegration.pdf\n",
    "N = 10 # Revisar -> converge muy rápido\n",
    "V=[] \n",
    "sigma = 0.004897\n",
    "\n",
    "# Funcion de Distribucion de Probabilidad\n",
    "def Gaussiana(x):\n",
    "    return (sigma*np.sqrt(2*np.pi))*(np.exp((-(x-10)**2)/(2*sigma**2)))\n",
    "\n",
    "for i in range(N):\n",
    "    r=np.random.normal(10, sigma**2)\n",
    "    if(r>a and r<b): #Elección de números aleatorios dentro del rango de integración\n",
    "        V.append(r)\n",
    "        \n",
    "l=np.array(V)\n",
    "E=np.sum(function(c,d,l)/Gaussiana(l))*(1/N)\n",
    "S=np.sqrt((1/N*np.sum((function(c,d,l)/Gaussiana(l))**2)-E**2))\n",
    "print(\"Estimado muestreo por importancia, I =\",round(E,5))\n",
    "print(\"Estimado varianza, S =\",round(S,5))"
   ]
  },
  {
   "cell_type": "code",
   "execution_count": null,
   "metadata": {},
   "outputs": [],
   "source": []
  }
 ],
 "metadata": {
  "kernelspec": {
   "display_name": "Python 3",
   "language": "python",
   "name": "python3"
  },
  "language_info": {
   "codemirror_mode": {
    "name": "ipython",
    "version": 3
   },
   "file_extension": ".py",
   "mimetype": "text/x-python",
   "name": "python",
   "nbconvert_exporter": "python",
   "pygments_lexer": "ipython3",
   "version": "3.6.11"
  }
 },
 "nbformat": 4,
 "nbformat_minor": 4
}
